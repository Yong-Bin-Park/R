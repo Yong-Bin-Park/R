{
  "nbformat": 4,
  "nbformat_minor": 0,
  "metadata": {
    "colab": {
      "name": "r_study_14.ipynb",
      "provenance": [],
      "collapsed_sections": [],
      "authorship_tag": "ABX9TyNaQmU42auUXHExYlL2DMtv",
      "include_colab_link": true
    },
    "kernelspec": {
      "name": "ir",
      "display_name": "R"
    },
    "language_info": {
      "name": "R"
    }
  },
  "cells": [
    {
      "cell_type": "markdown",
      "metadata": {
        "id": "view-in-github",
        "colab_type": "text"
      },
      "source": [
        "<a href=\"https://colab.research.google.com/github/Yong-Bin-Park/R/blob/main/r_study_14.ipynb\" target=\"_parent\"><img src=\"https://colab.research.google.com/assets/colab-badge.svg\" alt=\"Open In Colab\"/></a>"
      ]
    },
    {
      "cell_type": "code",
      "metadata": {
        "colab": {
          "base_uri": "https://localhost:8080/"
        },
        "id": "26LlXiCduffi",
        "outputId": "7d775240-6089-4107-c52d-8aa964212914"
      },
      "source": [
        "#14-1 MNIST 데이터셋 로드 및 구조 살피기\n",
        "install.packages(\"keras\")"
      ],
      "execution_count": 2,
      "outputs": [
        {
          "output_type": "stream",
          "name": "stderr",
          "text": [
            "Installing package into ‘/usr/local/lib/R/site-library’\n",
            "(as ‘lib’ is unspecified)\n",
            "\n"
          ]
        }
      ]
    },
    {
      "cell_type": "code",
      "metadata": {
        "id": "kuJ3E9GwvKzo"
      },
      "source": [
        "library(keras)"
      ],
      "execution_count": 3,
      "outputs": []
    },
    {
      "cell_type": "code",
      "metadata": {
        "colab": {
          "base_uri": "https://localhost:8080/"
        },
        "id": "tlktcbkvvN9p",
        "outputId": "5e6099db-f230-4390-b2d1-3dd2c3ce26ff"
      },
      "source": [
        "data_mnist <- dataset_mnist()"
      ],
      "execution_count": 4,
      "outputs": [
        {
          "output_type": "stream",
          "name": "stderr",
          "text": [
            "Loaded Tensorflow version 2.7.0\n",
            "\n"
          ]
        }
      ]
    },
    {
      "cell_type": "code",
      "metadata": {
        "colab": {
          "base_uri": "https://localhost:8080/"
        },
        "id": "dF0lahxQvT9E",
        "outputId": "0675c5f3-75f6-4ea1-a7f4-5cffbf242132"
      },
      "source": [
        "str(data_mnist)"
      ],
      "execution_count": 5,
      "outputs": [
        {
          "output_type": "stream",
          "name": "stdout",
          "text": [
            "List of 2\n",
            " $ train:List of 2\n",
            "  ..$ x: int [1:60000, 1:28, 1:28] 0 0 0 0 0 0 0 0 0 0 ...\n",
            "  ..$ y: int [1:60000(1d)] 5 0 4 1 9 2 1 3 1 4 ...\n",
            " $ test :List of 2\n",
            "  ..$ x: int [1:10000, 1:28, 1:28] 0 0 0 0 0 0 0 0 0 0 ...\n",
            "  ..$ y: int [1:10000(1d)] 7 2 1 0 4 1 4 9 5 9 ...\n"
          ]
        }
      ]
    },
    {
      "cell_type": "code",
      "metadata": {
        "id": "OMGiPjkivX0r"
      },
      "source": [
        "#14-2 데이터셋 분리 및 구조 살피기\n",
        "c(c(train_imgs, train_labels),c(test_imgs,test_labels)) %<-% data_mnist"
      ],
      "execution_count": 6,
      "outputs": []
    },
    {
      "cell_type": "code",
      "metadata": {
        "colab": {
          "base_uri": "https://localhost:8080/"
        },
        "id": "TqpeeIoCvzbx",
        "outputId": "14b157e3-92aa-4cfd-f3b3-b98b78733f33"
      },
      "source": [
        "str(train_imgs)"
      ],
      "execution_count": 7,
      "outputs": [
        {
          "output_type": "stream",
          "name": "stdout",
          "text": [
            " int [1:60000, 1:28, 1:28] 0 0 0 0 0 0 0 0 0 0 ...\n"
          ]
        }
      ]
    },
    {
      "cell_type": "code",
      "metadata": {
        "colab": {
          "base_uri": "https://localhost:8080/"
        },
        "id": "Y7_Dc4mYv2Uf",
        "outputId": "e26cfb11-f535-49ab-e866-435fbdbfbab5"
      },
      "source": [
        "str(train_labels)"
      ],
      "execution_count": 8,
      "outputs": [
        {
          "output_type": "stream",
          "name": "stdout",
          "text": [
            " int [1:60000(1d)] 5 0 4 1 9 2 1 3 1 4 ...\n"
          ]
        }
      ]
    },
    {
      "cell_type": "code",
      "metadata": {
        "colab": {
          "base_uri": "https://localhost:8080/"
        },
        "id": "sKBUJl91v5gV",
        "outputId": "660d2fbd-04b4-4c8b-b879-1c8ce2d9324a"
      },
      "source": [
        "str(test_imgs)"
      ],
      "execution_count": 9,
      "outputs": [
        {
          "output_type": "stream",
          "name": "stdout",
          "text": [
            " int [1:10000, 1:28, 1:28] 0 0 0 0 0 0 0 0 0 0 ...\n"
          ]
        }
      ]
    },
    {
      "cell_type": "code",
      "metadata": {
        "colab": {
          "base_uri": "https://localhost:8080/"
        },
        "id": "EdrL90h8v7-D",
        "outputId": "baaab60d-d7af-479a-a8b5-e4520c44625e"
      },
      "source": [
        "str(test_labels)"
      ],
      "execution_count": 10,
      "outputs": [
        {
          "output_type": "stream",
          "name": "stdout",
          "text": [
            " int [1:10000(1d)] 7 2 1 0 4 1 4 9 5 9 ...\n"
          ]
        }
      ]
    },
    {
      "cell_type": "code",
      "metadata": {
        "id": "0IciIDO3v-K1"
      },
      "source": [
        "#14-3 DNN에 맞는 입력으로 변경하고 double 형으로 변경하기\n",
        "train_imgs <- array_reshape(train_imgs, c(60000,28*28))"
      ],
      "execution_count": 11,
      "outputs": []
    },
    {
      "cell_type": "code",
      "metadata": {
        "id": "Oymz24uCwWqe"
      },
      "source": [
        "train_imgs <- train_imgs/255"
      ],
      "execution_count": 12,
      "outputs": []
    },
    {
      "cell_type": "code",
      "metadata": {
        "id": "dpwSO_VUwa7-"
      },
      "source": [
        "test_imgs <- array_reshape(test_imgs, c(10000,28*28))"
      ],
      "execution_count": 13,
      "outputs": []
    },
    {
      "cell_type": "code",
      "metadata": {
        "id": "5zo3t7LYwiLa"
      },
      "source": [
        "test_imgs <- test_imgs/255"
      ],
      "execution_count": 14,
      "outputs": []
    },
    {
      "cell_type": "code",
      "metadata": {
        "id": "fE34gR-9wlgq"
      },
      "source": [
        "train_labels <- to_categorical(train_labels)"
      ],
      "execution_count": 15,
      "outputs": []
    },
    {
      "cell_type": "code",
      "metadata": {
        "id": "mQfx_Yxdwqhs"
      },
      "source": [
        "test_labels <- to_categorical(test_labels)"
      ],
      "execution_count": 16,
      "outputs": []
    },
    {
      "cell_type": "code",
      "metadata": {
        "id": "TmKSCXxCwtiJ"
      },
      "source": [
        "#14-4 모델 정의하기\n",
        "model <- keras_model_sequential() %>%\n",
        "  layer_dense(units=512, activation = \"relu\", input_shape = c(28*28)) %>%\n",
        "  layer_dense(units=10, activation = \"softmax\")"
      ],
      "execution_count": 17,
      "outputs": []
    },
    {
      "cell_type": "code",
      "metadata": {
        "colab": {
          "base_uri": "https://localhost:8080/"
        },
        "id": "WMjlDSWtxJaL",
        "outputId": "9678257b-2738-4005-864b-728c683f0437"
      },
      "source": [
        "summary(model)"
      ],
      "execution_count": 18,
      "outputs": [
        {
          "output_type": "stream",
          "name": "stdout",
          "text": [
            "Model: \"sequential\"\n",
            "________________________________________________________________________________\n",
            " Layer (type)                       Output Shape                    Param #     \n",
            "================================================================================\n",
            " dense_1 (Dense)                    (None, 512)                     401920      \n",
            "                                                                                \n",
            " dense (Dense)                      (None, 10)                      5130        \n",
            "                                                                                \n",
            "================================================================================\n",
            "Total params: 407,050\n",
            "Trainable params: 407,050\n",
            "Non-trainable params: 0\n",
            "________________________________________________________________________________\n"
          ]
        }
      ]
    },
    {
      "cell_type": "code",
      "metadata": {
        "id": "za4c7WKCxMJ_"
      },
      "source": [
        "#14-4 환경설정 및 컴파일하기\n",
        "model %>% compile(\n",
        "  optimizer = \"adam\",\n",
        "  loss = \"categorical_crossentropy\",\n",
        "  metrics = c(\"accuracy\")\n",
        ")"
      ],
      "execution_count": 19,
      "outputs": []
    },
    {
      "cell_type": "code",
      "metadata": {
        "id": "FkYkWd0Nxhc6"
      },
      "source": [
        "#14-5 모델 훈련\n",
        "history <- model %>% fit(\n",
        "  train_imgs,\n",
        "  train_labels,\n",
        "  epochs =5,\n",
        "  batch_size = 128,\n",
        ")"
      ],
      "execution_count": 21,
      "outputs": []
    },
    {
      "cell_type": "code",
      "metadata": {
        "id": "tGMJvZbNxwK0"
      },
      "source": [
        "#14-5 모델의 평가\n",
        "res <- model %>% evaluate(test_imgs, test_labels, verbose = 0)"
      ],
      "execution_count": 22,
      "outputs": []
    },
    {
      "cell_type": "code",
      "metadata": {
        "colab": {
          "base_uri": "https://localhost:8080/",
          "height": 34
        },
        "id": "Zjpt4QYoyLul",
        "outputId": "fdebd8cc-c679-432f-a835-0df360ad3a4e"
      },
      "source": [
        "res"
      ],
      "execution_count": 23,
      "outputs": [
        {
          "output_type": "display_data",
          "data": {
            "text/plain": [
              "      loss   accuracy \n",
              "0.06782334 0.98210001 "
            ],
            "text/latex": "\\begin{description*}\n\\item[loss] 0.0678233429789543\n\\item[accuracy] 0.982100009918213\n\\end{description*}\n",
            "text/markdown": "loss\n:   0.0678233429789543accuracy\n:   0.982100009918213\n\n",
            "text/html": [
              "<style>\n",
              ".dl-inline {width: auto; margin:0; padding: 0}\n",
              ".dl-inline>dt, .dl-inline>dd {float: none; width: auto; display: inline-block}\n",
              ".dl-inline>dt::after {content: \":\\0020\"; padding-right: .5ex}\n",
              ".dl-inline>dt:not(:first-of-type) {padding-left: .5ex}\n",
              "</style><dl class=dl-inline><dt>loss</dt><dd>0.0678233429789543</dd><dt>accuracy</dt><dd>0.982100009918213</dd></dl>\n"
            ]
          },
          "metadata": {}
        }
      ]
    },
    {
      "cell_type": "code",
      "metadata": {
        "id": "vX8xvpVwyMsS"
      },
      "source": [
        "#합성곱 신경망 모델 구현\n",
        "library(keras)"
      ],
      "execution_count": 24,
      "outputs": []
    },
    {
      "cell_type": "code",
      "metadata": {
        "id": "q5FyCh1Pyqra"
      },
      "source": [
        "model <- keras_model_sequential() %>%\n",
        "  layer_conv_2d(filters=32, kernel_size = c(3,3),activation=\"relu\",\n",
        "                input_shape=c(28,28,1)) %>%\n",
        "  layer_max_pooling_2d(pool_size = c(2,2)) %>%\n",
        "  layer_conv_2d(filters=64, kernel_size = c(3,3),activation=\"relu\") %>%\n",
        "  layer_max_pooling_2d(pool_size = c(2,2)) %>%\n",
        "  layer_flatten() %>%\n",
        "  layer_dropout((rate=0.5)) %>%\n",
        "  layer_dense(units=128,activation = \"relu\")%>%\n",
        "  layer_dense(units=10,activation = \"softmax\")"
      ],
      "execution_count": 25,
      "outputs": []
    },
    {
      "cell_type": "code",
      "metadata": {
        "colab": {
          "base_uri": "https://localhost:8080/"
        },
        "id": "u4B1SX4nzrKh",
        "outputId": "87582a83-a6e1-48de-a09b-66b08117d1a2"
      },
      "source": [
        "summary(model)"
      ],
      "execution_count": 26,
      "outputs": [
        {
          "output_type": "stream",
          "name": "stdout",
          "text": [
            "Model: \"sequential_1\"\n",
            "________________________________________________________________________________\n",
            " Layer (type)                       Output Shape                    Param #     \n",
            "================================================================================\n",
            " conv2d_1 (Conv2D)                  (None, 26, 26, 32)              320         \n",
            "                                                                                \n",
            " max_pooling2d_1 (MaxPooling2D)     (None, 13, 13, 32)              0           \n",
            "                                                                                \n",
            " conv2d (Conv2D)                    (None, 11, 11, 64)              18496       \n",
            "                                                                                \n",
            " max_pooling2d (MaxPooling2D)       (None, 5, 5, 64)                0           \n",
            "                                                                                \n",
            " flatten (Flatten)                  (None, 1600)                    0           \n",
            "                                                                                \n",
            " dropout (Dropout)                  (None, 1600)                    0           \n",
            "                                                                                \n",
            " dense_3 (Dense)                    (None, 128)                     204928      \n",
            "                                                                                \n",
            " dense_2 (Dense)                    (None, 10)                      1290        \n",
            "                                                                                \n",
            "================================================================================\n",
            "Total params: 225,034\n",
            "Trainable params: 225,034\n",
            "Non-trainable params: 0\n",
            "________________________________________________________________________________\n"
          ]
        }
      ]
    },
    {
      "cell_type": "code",
      "metadata": {
        "id": "bm8oSZuQzs0s"
      },
      "source": [
        "#14-6 MNIST 이미지를 이용한 합성곱 신경망 훈련\n",
        "data_mnist <- dataset_mnist()\n",
        "# %<-% 연산자를 이용해 리스트의 값을 변수에 저장\n",
        "c(c(train_imgs,train_labels),c(test_imgs,test_labels)) %<-% data_mnist"
      ],
      "execution_count": 27,
      "outputs": []
    },
    {
      "cell_type": "code",
      "metadata": {
        "id": "8eJyTdh50U6d"
      },
      "source": [
        "#이미지를 신경망 입력형식으로 변환 및 정규화\n",
        "train_imgs <- array_reshape(train_imgs,c(60000,28,28,1))\n",
        "train_imgs <- train_imgs/255\n",
        "test_imgs <- array_reshape(test_imgs,c(10000,28,28,1))\n",
        "test_imgs <- test_imgs/255"
      ],
      "execution_count": 28,
      "outputs": []
    },
    {
      "cell_type": "code",
      "metadata": {
        "id": "sb1UmlvG0skV"
      },
      "source": [
        "train_labels <- to_categorical(train_labels)\n",
        "test_labels <- to_categorical(test_labels)"
      ],
      "execution_count": 29,
      "outputs": []
    },
    {
      "cell_type": "code",
      "metadata": {
        "id": "FoASmlnp01Dl"
      },
      "source": [
        "#모델 컴파일\n",
        "model %>% compile(\n",
        "  optimizer = \"adam\",\n",
        "  loss = \"categorical_crossentropy\",\n",
        "  metrics = c(\"accuracy\")\n",
        ")"
      ],
      "execution_count": 30,
      "outputs": []
    },
    {
      "cell_type": "code",
      "metadata": {
        "id": "aSNlLH8y1FPS"
      },
      "source": [
        "#모델 훈련\n",
        "history <- model %>% fit(\n",
        "  train_imgs,\n",
        "  train_labels,\n",
        "  epochs = 5,\n",
        "  batch_size = 100\n",
        ")"
      ],
      "execution_count": 31,
      "outputs": []
    },
    {
      "cell_type": "code",
      "metadata": {
        "colab": {
          "base_uri": "https://localhost:8080/",
          "height": 34
        },
        "id": "5vD8dSMr1TrJ",
        "outputId": "80d89c8c-7255-41b1-9c2e-f418414c0f47"
      },
      "source": [
        "#14-7 테스트셋을 이용한 모델 평가\n",
        "res <- model %>% evaluate(test_imgs, test_labels)\n",
        "res"
      ],
      "execution_count": 32,
      "outputs": [
        {
          "output_type": "display_data",
          "data": {
            "text/plain": [
              "      loss   accuracy \n",
              "0.02251881 0.99210000 "
            ],
            "text/latex": "\\begin{description*}\n\\item[loss] 0.0225188117474318\n\\item[accuracy] 0.99210000038147\n\\end{description*}\n",
            "text/markdown": "loss\n:   0.0225188117474318accuracy\n:   0.99210000038147\n\n",
            "text/html": [
              "<style>\n",
              ".dl-inline {width: auto; margin:0; padding: 0}\n",
              ".dl-inline>dt, .dl-inline>dd {float: none; width: auto; display: inline-block}\n",
              ".dl-inline>dt::after {content: \":\\0020\"; padding-right: .5ex}\n",
              ".dl-inline>dt:not(:first-of-type) {padding-left: .5ex}\n",
              "</style><dl class=dl-inline><dt>loss</dt><dd>0.0225188117474318</dd><dt>accuracy</dt><dd>0.99210000038147</dd></dl>\n"
            ]
          },
          "metadata": {}
        }
      ]
    },
    {
      "cell_type": "code",
      "metadata": {
        "colab": {
          "base_uri": "https://localhost:8080/",
          "height": 437
        },
        "id": "diHBQPRn2SdZ",
        "outputId": "0de8de57-ba0e-4947-8b48-45a44056184c"
      },
      "source": [
        "plot(history)"
      ],
      "execution_count": 34,
      "outputs": [
        {
          "output_type": "display_data",
          "data": {
            "image/png": "[encoded data removed]",
            "text/plain": [
              "plot without title"
            ]
          },
          "metadata": {
            "image/png": {
              "width": 420,
              "height": 420
            }
          }
        }
      ]
    },
    {
      "cell_type": "code",
      "metadata": {
        "id": "vNP59U0V2fw3"
      },
      "source": [
        ""
      ],
      "execution_count": null,
      "outputs": []
    }
  ]
}